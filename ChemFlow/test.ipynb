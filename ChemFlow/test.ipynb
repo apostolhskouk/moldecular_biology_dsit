{
 "cells": [
  {
   "cell_type": "code",
   "execution_count": 3,
   "id": "80007404",
   "metadata": {},
   "outputs": [
    {
     "name": "stdout",
     "output_type": "stream",
     "text": [
      "['qed_hj_sup_0.1_relative.csv', 'qed_random_1d_0.1_relative.csv', 'qed_wave_sup_0.1_relative.csv', 'qed_fp_0.1_relative.csv', 'qed_hj_unsup_0.1_relative.csv', 'qed_wave_unsup_0.1_relative.csv', 'qed_limo_0.1_relative.csv', 'qed_random_0.1_relative.csv']\n"
     ]
    }
   ],
   "source": [
    "folder = \"/data/hdd1/users/akouk/ChemFlow/ChemFlow/data/interim/uc_optim/\"\n",
    "files_to_check = []\n",
    "#iterate over all files in the folder and keep only those having 'qed' in their name\n",
    "import os\n",
    "for file in os.listdir(folder):\n",
    "    if 'qed' in file and 'improvement' not in file and 'all' not in file:\n",
    "        files_to_check.append(file)\n",
    "print(files_to_check)"
   ]
  },
  {
   "cell_type": "code",
   "execution_count": 4,
   "id": "0540735a",
   "metadata": {},
   "outputs": [
    {
     "name": "stdout",
     "output_type": "stream",
     "text": [
      "File: qed_hj_sup_0.1_relative.csv\n",
      "60998    0.938837\n",
      "48011    0.935563\n",
      "66887    0.930374\n",
      "Name: qed, dtype: float64\n",
      "==============================\n",
      "File: qed_random_1d_0.1_relative.csv\n",
      "85213    0.934280\n",
      "17103    0.930963\n",
      "33321    0.929874\n",
      "Name: qed, dtype: float64\n",
      "==============================\n",
      "File: qed_wave_sup_0.1_relative.csv\n",
      "33321    0.927415\n",
      "21003    0.925487\n",
      "86937    0.915687\n",
      "Name: qed, dtype: float64\n",
      "==============================\n",
      "File: qed_fp_0.1_relative.csv\n",
      "82046    0.931717\n",
      "95100    0.929159\n",
      "80532    0.920554\n",
      "Name: qed, dtype: float64\n",
      "==============================\n",
      "File: qed_hj_unsup_0.1_relative.csv\n",
      "77172    0.944485\n",
      "74595    0.926846\n",
      "48572    0.926735\n",
      "Name: qed, dtype: float64\n",
      "==============================\n",
      "File: qed_wave_unsup_0.1_relative.csv\n",
      "91137    0.926925\n",
      "79949    0.925670\n",
      "39190    0.925213\n",
      "Name: qed, dtype: float64\n",
      "==============================\n",
      "File: qed_limo_0.1_relative.csv\n",
      "16346    0.933245\n",
      "47227    0.929357\n",
      "28725    0.922994\n",
      "Name: qed, dtype: float64\n",
      "==============================\n",
      "File: qed_random_0.1_relative.csv\n",
      "94522    0.942170\n",
      "77404    0.928851\n",
      "21263    0.928527\n",
      "Name: qed, dtype: float64\n",
      "==============================\n"
     ]
    }
   ],
   "source": [
    "# for all files, opent them as csv and get the max 3 of qed column and print it\n",
    "import pandas as pd\n",
    "for file in files_to_check:\n",
    "    df = pd.read_csv(folder + file)\n",
    "    # get the max 3 of the 'qed' column\n",
    "    max_qed = df['qed'].nlargest(3)\n",
    "    print(f\"File: {file}\")\n",
    "    print(max_qed)\n",
    "    print(\"===\"*10)"
   ]
  },
  {
   "cell_type": "code",
   "execution_count": 5,
   "id": "66c780de",
   "metadata": {},
   "outputs": [
    {
     "name": "stdout",
     "output_type": "stream",
     "text": [
      "File: /data/hdd1/users/akouk/ChemFlow/ChemFlow/data/interim/props/zinc250k.csv\n",
      "66311     0.947882\n",
      "219085    0.947856\n",
      "221579    0.947806\n",
      "Name: qed, dtype: float64\n"
     ]
    }
   ],
   "source": [
    "file_path = \"/data/hdd1/users/akouk/ChemFlow/ChemFlow/data/interim/props/zinc250k.csv\"\n",
    "df = pd.read_csv(file_path)\n",
    "# TOP 3 MAX\n",
    "max_qed = df['qed'].nlargest(3)\n",
    "print(f\"File: {file_path}\")\n",
    "print(max_qed)"
   ]
  },
  {
   "cell_type": "code",
   "execution_count": 6,
   "id": "01e2dd11",
   "metadata": {},
   "outputs": [
    {
     "name": "stdout",
     "output_type": "stream",
     "text": [
      "['plogp_random_0.1_relative.csv', 'plogp_wave_unsup_0.1_relative.csv', 'plogp_hj_unsup_0.1_relative.csv', 'plogp_fp_0.1_relative.csv', 'plogp_random_1d_0.1_relative.csv', 'plogp_hj_sup_0.1_relative.csv', 'plogp_wave_sup_0.1_relative.csv', 'plogp_limo_0.1_relative.csv']\n"
     ]
    }
   ],
   "source": [
    "folder = \"/data/hdd1/users/akouk/ChemFlow/ChemFlow/data/interim/uc_optim/\"\n",
    "files_to_check = []\n",
    "#iterate over all files in the folder and keep only those having 'qed' in their name\n",
    "import os\n",
    "for file in os.listdir(folder):\n",
    "    if 'plogp' in file and 'improvement' not in file and 'all' not in file:\n",
    "        files_to_check.append(file)\n",
    "print(files_to_check)"
   ]
  },
  {
   "cell_type": "code",
   "execution_count": 7,
   "id": "43050e1c",
   "metadata": {},
   "outputs": [
    {
     "name": "stdout",
     "output_type": "stream",
     "text": [
      "File: plogp_random_0.1_relative.csv\n",
      "28261    3.312758\n",
      "32917    2.761936\n",
      "17301    2.645469\n",
      "Name: plogp, dtype: float64\n",
      "==============================\n",
      "File: plogp_wave_unsup_0.1_relative.csv\n",
      "40263    3.974033\n",
      "67684    3.479583\n",
      "80921    3.149583\n",
      "Name: plogp, dtype: float64\n",
      "==============================\n",
      "File: plogp_hj_unsup_0.1_relative.csv\n",
      "31739    3.617770\n",
      "48042    3.434992\n",
      "8440     3.266802\n",
      "Name: plogp, dtype: float64\n",
      "==============================\n",
      "File: plogp_fp_0.1_relative.csv\n",
      "55311    3.667278\n",
      "80844    3.553901\n",
      "64522    3.348607\n",
      "Name: plogp, dtype: float64\n",
      "==============================\n",
      "File: plogp_random_1d_0.1_relative.csv\n",
      "76828    3.194767\n",
      "60187    3.192457\n",
      "44924    3.134614\n",
      "Name: plogp, dtype: float64\n",
      "==============================\n",
      "File: plogp_hj_sup_0.1_relative.csv\n",
      "64215    3.213784\n",
      "53165    2.917472\n",
      "40367    2.879055\n",
      "Name: plogp, dtype: float64\n",
      "==============================\n",
      "File: plogp_wave_sup_0.1_relative.csv\n",
      "2359     3.435388\n",
      "1850     3.001935\n",
      "35052    2.761230\n",
      "Name: plogp, dtype: float64\n",
      "==============================\n",
      "File: plogp_limo_0.1_relative.csv\n",
      "74288    4.085167\n",
      "60187    3.192457\n",
      "44924    3.134614\n",
      "Name: plogp, dtype: float64\n",
      "==============================\n"
     ]
    }
   ],
   "source": [
    "# for all files, opent them as csv and get the max 3 of qed column and print it\n",
    "import pandas as pd\n",
    "for file in files_to_check:\n",
    "    df = pd.read_csv(folder + file)\n",
    "    # get the max 3 of the 'qed' column\n",
    "    max_qed = df['plogp'].nlargest(3)\n",
    "    print(f\"File: {file}\")\n",
    "    print(max_qed)\n",
    "    print(\"===\"*10)"
   ]
  },
  {
   "cell_type": "code",
   "execution_count": 8,
   "id": "8cdf5a0c",
   "metadata": {},
   "outputs": [
    {
     "name": "stdout",
     "output_type": "stream",
     "text": [
      "File: /data/hdd1/users/akouk/ChemFlow/ChemFlow/data/interim/props/zinc250k.csv\n",
      "87506     8.25210\n",
      "125904    7.99422\n",
      "47786     7.81210\n",
      "Name: plogp, dtype: float64\n"
     ]
    }
   ],
   "source": [
    "file_path = \"/data/hdd1/users/akouk/ChemFlow/ChemFlow/data/interim/props/zinc250k.csv\"\n",
    "df = pd.read_csv(file_path)\n",
    "# TOP 3 MAX\n",
    "max_qed = df['plogp'].nlargest(3)\n",
    "print(f\"File: {file_path}\")\n",
    "print(max_qed)"
   ]
  }
 ],
 "metadata": {
  "kernelspec": {
   "display_name": "chemflow_gpu",
   "language": "python",
   "name": "python3"
  },
  "language_info": {
   "codemirror_mode": {
    "name": "ipython",
    "version": 3
   },
   "file_extension": ".py",
   "mimetype": "text/x-python",
   "name": "python",
   "nbconvert_exporter": "python",
   "pygments_lexer": "ipython3",
   "version": "3.10.16"
  }
 },
 "nbformat": 4,
 "nbformat_minor": 5
}
