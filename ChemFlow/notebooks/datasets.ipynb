{
 "cells": [
  {
   "cell_type": "code",
   "execution_count": 1,
   "metadata": {
    "ExecuteTime": {
     "end_time": "2024-02-12T19:25:25.874410576Z",
     "start_time": "2024-02-12T19:25:25.873358400Z"
    },
    "collapsed": true
   },
   "outputs": [],
   "source": [
    "%load_ext dotenv\n",
    "%dotenv\n",
    "\n",
    "import os\n",
    "\n",
    "%cd {os.getenv(\"PROJECT_PATH\") or \".\"}\n",
    "\n",
    "%load_ext autoreload\n",
    "%autoreload 1\n",
    "\n",
    "from IPython.display import display"
   ]
  },
  {
   "cell_type": "code",
   "execution_count": 2,
   "metadata": {
    "ExecuteTime": {
     "end_time": "2024-02-12T19:25:27.911100245Z",
     "start_time": "2024-02-12T19:25:25.873566693Z"
    },
    "collapsed": false
   },
   "outputs": [],
   "source": [
    "import torch\n",
    "import numpy as np\n",
    "import pandas as pd\n",
    "import matplotlib.pyplot as plt\n",
    "import seaborn as sns\n",
    "\n",
    "import sys\n",
    "from pathlib import Path\n",
    "from absl import logging\n",
    "from tqdm.notebook import tqdm, trange\n",
    "from timeit import default_timer as timer\n",
    "import pickle\n",
    "from collections import defaultdict\n",
    "\n",
    "logging.set_verbosity(logging.INFO)\n",
    "\n",
    "sns.set_context(\"notebook\")"
   ]
  },
  {
   "cell_type": "code",
   "execution_count": 3,
   "metadata": {
    "ExecuteTime": {
     "end_time": "2024-02-12T19:25:27.936608294Z",
     "start_time": "2024-02-12T19:25:27.912613597Z"
    },
    "collapsed": false
   },
   "outputs": [],
   "source": [
    "from pandarallel import pandarallel\n",
    "\n",
    "pandarallel.initialize(\n",
    "    nb_workers=os.cpu_count(),\n",
    "    progress_bar=True,\n",
    "    verbose=2\n",
    ")"
   ]
  },
  {
   "cell_type": "code",
   "execution_count": 4,
   "metadata": {
    "ExecuteTime": {
     "end_time": "2024-02-12T19:25:27.966636983Z",
     "start_time": "2024-02-12T19:25:27.931623628Z"
    },
    "collapsed": false
   },
   "outputs": [],
   "source": [
    "def show_df(df: pd.DataFrame):\n",
    "    display(df.head())\n",
    "    print(df.shape)"
   ]
  },
  {
   "cell_type": "code",
   "execution_count": 5,
   "metadata": {
    "ExecuteTime": {
     "end_time": "2024-02-12T19:25:28.238245011Z",
     "start_time": "2024-02-12T19:25:27.934150826Z"
    },
    "collapsed": false
   },
   "outputs": [],
   "source": [
    "df_zinc250k = pd.read_csv(\"data/raw/zinc250k.csv\", index_col=0)\n",
    "df_zinc250k['source'] = \"zinc250k\"\n",
    "\n",
    "show_df(df_zinc250k)"
   ]
  },
  {
   "cell_type": "code",
   "execution_count": 6,
   "metadata": {
    "ExecuteTime": {
     "end_time": "2024-02-12T19:25:30.000417251Z",
     "start_time": "2024-02-12T19:25:28.553646347Z"
    },
    "collapsed": false
   },
   "outputs": [],
   "source": [
    "df_moses = pd.read_csv(\"data/raw/moses.csv\").rename(columns={\"SMILES\": \"smiles\"})\n",
    "df_moses['source'] = \"moses\"\n",
    "\n",
    "show_df(df_moses)"
   ]
  },
  {
   "cell_type": "code",
   "execution_count": 7,
   "metadata": {
    "ExecuteTime": {
     "end_time": "2024-02-12T19:25:38.830303852Z",
     "start_time": "2024-02-12T19:25:30.001312554Z"
    },
    "collapsed": false
   },
   "outputs": [],
   "source": [
    "df_chembl = pd.read_csv(\"data/raw/chembl_33_chemreps.txt\", sep=\"\\t\", index_col=0).rename(columns={\"canonical_smiles\": \"smiles\"})\n",
    "df_chembl['source'] = \"chembl\"\n",
    "\n",
    "show_df(df_chembl)"
   ]
  },
  {
   "cell_type": "code",
   "execution_count": 8,
   "metadata": {
    "ExecuteTime": {
     "end_time": "2024-02-12T19:25:38.837061746Z",
     "start_time": "2024-02-12T19:25:38.831818216Z"
    },
    "collapsed": false
   },
   "outputs": [],
   "source": [
    "# df_chembl.canonical_smiles.to_csv(\"data/processed/chembl.smi\", index=False, header=False)"
   ]
  },
  {
   "cell_type": "code",
   "execution_count": 9,
   "metadata": {
    "ExecuteTime": {
     "end_time": "2024-02-12T19:26:04.453314215Z",
     "start_time": "2024-02-12T19:25:50.939790290Z"
    },
    "collapsed": false
   },
   "outputs": [],
   "source": [
    "df_smiles = pd.concat([df_moses, df_chembl, df_zinc250k], axis=0, ignore_index=True)\n",
    "df_smiles = df_smiles[['smiles', 'source']]\n",
    "df_smiles = df_smiles.dropna().drop_duplicates().sort_values(by=\"smiles\").reset_index(drop=True)\n",
    "\n",
    "show_df(df_smiles)"
   ]
  },
  {
   "cell_type": "code",
   "execution_count": 16,
   "metadata": {
    "ExecuteTime": {
     "end_time": "2024-02-12T19:35:09.508634960Z",
     "start_time": "2024-02-12T19:35:07.269526571Z"
    },
    "collapsed": false
   },
   "outputs": [],
   "source": [
    "df_smiles_single = df_smiles[~df_smiles.smiles.str.contains(\"\\.\")]\n",
    "\n",
    "show_df(df_smiles_single)"
   ]
  },
  {
   "cell_type": "code",
   "execution_count": 19,
   "metadata": {
    "ExecuteTime": {
     "end_time": "2024-02-12T19:44:41.606574713Z",
     "start_time": "2024-02-12T19:41:27.800478209Z"
    },
    "collapsed": false
   },
   "outputs": [],
   "source": [
    "import selfies as sf\n",
    "\n",
    "def func(x:pd.Series):\n",
    "    try:\n",
    "        selfies = sf.encoder(x['smiles'])\n",
    "        \n",
    "        x['length'] = len(list(sf.split_selfies(selfies)))\n",
    "    except Exception as e:\n",
    "        return x\n",
    "    return x\n",
    "\n",
    "# _df = df_chembl[~df_chembl['canonical_smiles'].str.contains(\"\\.\")].parallel_apply(func, axis=1).dropna()\n",
    "_df_len = df_smiles_single.parallel_apply(func, axis=1).dropna()\n",
    "\n",
    "show_df(_df_len)"
   ]
  },
  {
   "cell_type": "code",
   "execution_count": 20,
   "metadata": {
    "ExecuteTime": {
     "end_time": "2024-02-12T19:44:45.948214637Z",
     "start_time": "2024-02-12T19:44:45.695842699Z"
    },
    "collapsed": false
   },
   "outputs": [],
   "source": [
    "_df_len.query('source == \"moses\"').length.describe()"
   ]
  },
  {
   "cell_type": "code",
   "execution_count": 21,
   "metadata": {
    "ExecuteTime": {
     "end_time": "2024-02-12T19:45:02.814432445Z",
     "start_time": "2024-02-12T19:45:02.693929348Z"
    },
    "collapsed": false
   },
   "outputs": [],
   "source": [
    "_df_len.query('source == \"zinc250k\"').length.describe()"
   ]
  },
  {
   "cell_type": "code",
   "execution_count": 23,
   "metadata": {
    "ExecuteTime": {
     "end_time": "2024-02-12T19:45:49.575032677Z",
     "start_time": "2024-02-12T19:45:49.067274360Z"
    },
    "collapsed": false
   },
   "outputs": [],
   "source": [
    "_df_len.query('13 <= length <= 72').length.hist(bins=72-13+1)"
   ]
  },
  {
   "cell_type": "code",
   "execution_count": 25,
   "metadata": {
    "ExecuteTime": {
     "end_time": "2024-02-12T19:47:31.361353665Z",
     "start_time": "2024-02-12T19:47:30.960446065Z"
    },
    "collapsed": false
   },
   "outputs": [],
   "source": [
    "df_processed = _df_len.query('13 <= length <= 72').drop(columns=['length', 'source'])\n",
    "\n",
    "show_df(df_processed)"
   ]
  },
  {
   "cell_type": "code",
   "execution_count": 26,
   "metadata": {
    "ExecuteTime": {
     "end_time": "2024-02-12T19:47:35.507101686Z",
     "start_time": "2024-02-12T19:47:31.801258659Z"
    },
    "collapsed": false
   },
   "outputs": [],
   "source": [
    "df_processed.to_csv(\"data/processed/zmc.smi\", index=False, header=False)"
   ]
  }
 ],
 "metadata": {
  "kernelspec": {
   "display_name": "Python 3",
   "language": "python",
   "name": "python3"
  },
  "language_info": {
   "codemirror_mode": {
    "name": "ipython",
    "version": 2
   },
   "file_extension": ".py",
   "mimetype": "text/x-python",
   "name": "python",
   "nbconvert_exporter": "python",
   "pygments_lexer": "ipython2",
   "version": "2.7.6"
  }
 },
 "nbformat": 4,
 "nbformat_minor": 0
}
