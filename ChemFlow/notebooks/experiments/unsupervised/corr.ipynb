{
 "cells": [
  {
   "cell_type": "code",
   "execution_count": 1,
   "metadata": {
    "ExecuteTime": {
     "end_time": "2024-05-05T21:37:54.854498Z",
     "start_time": "2024-05-05T21:37:54.835947Z"
    },
    "collapsed": true
   },
   "outputs": [
    {
     "name": "stdout",
     "output_type": "stream",
     "text": [
      "/data/hdd1/users/akouk/ChemFlow/ChemFlow\n"
     ]
    }
   ],
   "source": [
    "%load_ext dotenv\n",
    "%dotenv\n",
    "\n",
    "import os\n",
    "\n",
    "%cd {os.getenv(\"PROJECT_PATH\") or \".\"}\n",
    "\n",
    "%load_ext autoreload\n",
    "%autoreload 1\n",
    "\n",
    "from IPython.display import display"
   ]
  },
  {
   "cell_type": "code",
   "execution_count": 2,
   "metadata": {
    "ExecuteTime": {
     "end_time": "2024-05-05T21:37:56.724726Z",
     "start_time": "2024-05-05T21:37:54.858732Z"
    },
    "collapsed": false
   },
   "outputs": [],
   "source": [
    "import torch\n",
    "import numpy as np\n",
    "import pandas as pd\n",
    "import matplotlib.pyplot as plt\n",
    "\n",
    "import sys\n",
    "from pathlib import Path\n",
    "from absl import logging\n",
    "from tqdm.notebook import tqdm, trange\n",
    "from timeit import default_timer as timer\n",
    "import pickle\n",
    "from collections import defaultdict\n",
    "\n",
    "logging.set_verbosity(logging.INFO)"
   ]
  },
  {
   "cell_type": "code",
   "execution_count": 3,
   "metadata": {
    "ExecuteTime": {
     "end_time": "2024-05-05T21:37:56.737962Z",
     "start_time": "2024-05-05T21:37:56.726140Z"
    },
    "collapsed": false
   },
   "outputs": [],
   "source": [
    "from pandarallel import pandarallel\n",
    "\n",
    "pandarallel.initialize(\n",
    "    nb_workers=os.cpu_count(),\n",
    "    progress_bar=True,\n",
    "    verbose=0\n",
    ")"
   ]
  },
  {
   "cell_type": "code",
   "execution_count": 4,
   "metadata": {
    "ExecuteTime": {
     "end_time": "2024-05-05T21:37:56.740644Z",
     "start_time": "2024-05-05T21:37:56.738600Z"
    },
    "collapsed": false
   },
   "outputs": [],
   "source": [
    "def show_df(df: pd.DataFrame):\n",
    "    display(df.head())\n",
    "    print(df.shape)"
   ]
  },
  {
   "cell_type": "code",
   "execution_count": 5,
   "metadata": {
    "ExecuteTime": {
     "end_time": "2024-05-05T21:37:59.197446Z",
     "start_time": "2024-05-05T21:37:56.741565Z"
    },
    "collapsed": false
   },
   "outputs": [
    {
     "name": "stderr",
     "output_type": "stream",
     "text": [
      "Found local copy...\n",
      "Found local copy...\n",
      "Found local copy...\n"
     ]
    }
   ],
   "source": [
    "from rdkit import Chem\n",
    "\n",
    "from src.utils.scores import *\n",
    "from src.vae import load_vae\n",
    "from src.pinn.pde import load_wavepde\n",
    "from src.pinn import VAEGenerator"
   ]
  },
  {
   "cell_type": "code",
   "execution_count": 6,
   "metadata": {
    "ExecuteTime": {
     "end_time": "2024-05-05T21:38:34.695633Z",
     "start_time": "2024-05-05T21:38:34.543151Z"
    },
    "collapsed": false
   },
   "outputs": [
    {
     "data": {
      "text/html": [
       "<div>\n",
       "<style scoped>\n",
       "    .dataframe tbody tr th:only-of-type {\n",
       "        vertical-align: middle;\n",
       "    }\n",
       "\n",
       "    .dataframe tbody tr th {\n",
       "        vertical-align: top;\n",
       "    }\n",
       "\n",
       "    .dataframe thead th {\n",
       "        text-align: right;\n",
       "    }\n",
       "</style>\n",
       "<table border=\"1\" class=\"dataframe\">\n",
       "  <thead>\n",
       "    <tr style=\"text-align: right;\">\n",
       "      <th></th>\n",
       "      <th>k_idx</th>\n",
       "      <th>idx</th>\n",
       "      <th>t</th>\n",
       "      <th>smiles</th>\n",
       "      <th>index</th>\n",
       "      <th>plogp</th>\n",
       "      <th>sa</th>\n",
       "      <th>qed</th>\n",
       "      <th>drd2</th>\n",
       "      <th>jnk3</th>\n",
       "      <th>gsk3b</th>\n",
       "      <th>uplogp</th>\n",
       "    </tr>\n",
       "  </thead>\n",
       "  <tbody>\n",
       "    <tr>\n",
       "      <th>0</th>\n",
       "      <td>0</td>\n",
       "      <td>0</td>\n",
       "      <td>0</td>\n",
       "      <td>CNC=C(COCN)/C#CNCCCOC=CN=CC(C)C[NH1]C(F)(C)SF</td>\n",
       "      <td>0</td>\n",
       "      <td>-3.264532</td>\n",
       "      <td>5.654372</td>\n",
       "      <td>0.061369</td>\n",
       "      <td>0.010631</td>\n",
       "      <td>0.03</td>\n",
       "      <td>0.02</td>\n",
       "      <td>-3.646072</td>\n",
       "    </tr>\n",
       "    <tr>\n",
       "      <th>1</th>\n",
       "      <td>0</td>\n",
       "      <td>1</td>\n",
       "      <td>0</td>\n",
       "      <td>O[NH1+1](C#N)CCCNC(=CC=C1C)N(OC=CC=C1Cl)C</td>\n",
       "      <td>1</td>\n",
       "      <td>-17.992777</td>\n",
       "      <td>5.700959</td>\n",
       "      <td>0.401590</td>\n",
       "      <td>0.005917</td>\n",
       "      <td>0.00</td>\n",
       "      <td>0.02</td>\n",
       "      <td>-5.678579</td>\n",
       "    </tr>\n",
       "    <tr>\n",
       "      <th>2</th>\n",
       "      <td>0</td>\n",
       "      <td>2</td>\n",
       "      <td>0</td>\n",
       "      <td>C=C(C)CCC=NCNCNNC=CCC=CC=O</td>\n",
       "      <td>2</td>\n",
       "      <td>-2.033098</td>\n",
       "      <td>4.432049</td>\n",
       "      <td>0.095390</td>\n",
       "      <td>0.004846</td>\n",
       "      <td>0.00</td>\n",
       "      <td>0.06</td>\n",
       "      <td>-2.760849</td>\n",
       "    </tr>\n",
       "    <tr>\n",
       "      <th>3</th>\n",
       "      <td>0</td>\n",
       "      <td>3</td>\n",
       "      <td>0</td>\n",
       "      <td>C1COC=C(OC)N2N=NS#CSCCC(=O)C=C2C1CNO</td>\n",
       "      <td>3</td>\n",
       "      <td>-20.713743</td>\n",
       "      <td>5.780352</td>\n",
       "      <td>0.590009</td>\n",
       "      <td>0.003486</td>\n",
       "      <td>0.00</td>\n",
       "      <td>0.05</td>\n",
       "      <td>-5.509352</td>\n",
       "    </tr>\n",
       "    <tr>\n",
       "      <th>4</th>\n",
       "      <td>0</td>\n",
       "      <td>4</td>\n",
       "      <td>0</td>\n",
       "      <td>CCCCCCC=C(C)NCCNNCCNN(CC=CC)OCOC=CSN=C=C</td>\n",
       "      <td>4</td>\n",
       "      <td>-0.813712</td>\n",
       "      <td>4.657353</td>\n",
       "      <td>0.037397</td>\n",
       "      <td>0.012424</td>\n",
       "      <td>0.07</td>\n",
       "      <td>0.10</td>\n",
       "      <td>-0.849453</td>\n",
       "    </tr>\n",
       "  </tbody>\n",
       "</table>\n",
       "</div>"
      ],
      "text/plain": [
       "   k_idx  idx  t                                         smiles  index  \\\n",
       "0      0    0  0  CNC=C(COCN)/C#CNCCCOC=CN=CC(C)C[NH1]C(F)(C)SF      0   \n",
       "1      0    1  0      O[NH1+1](C#N)CCCNC(=CC=C1C)N(OC=CC=C1Cl)C      1   \n",
       "2      0    2  0                     C=C(C)CCC=NCNCNNC=CCC=CC=O      2   \n",
       "3      0    3  0           C1COC=C(OC)N2N=NS#CSCCC(=O)C=C2C1CNO      3   \n",
       "4      0    4  0       CCCCCCC=C(C)NCCNNCCNN(CC=CC)OCOC=CSN=C=C      4   \n",
       "\n",
       "       plogp        sa       qed      drd2  jnk3  gsk3b    uplogp  \n",
       "0  -3.264532  5.654372  0.061369  0.010631  0.03   0.02 -3.646072  \n",
       "1 -17.992777  5.700959  0.401590  0.005917  0.00   0.02 -5.678579  \n",
       "2  -2.033098  4.432049  0.095390  0.004846  0.00   0.06 -2.760849  \n",
       "3 -20.713743  5.780352  0.590009  0.003486  0.00   0.05 -5.509352  \n",
       "4  -0.813712  4.657353  0.037397  0.012424  0.07   0.10 -0.849453  "
      ]
     },
     "metadata": {},
     "output_type": "display_data"
    },
    {
     "name": "stdout",
     "output_type": "stream",
     "text": [
      "(100000, 12)\n"
     ]
    }
   ],
   "source": [
    "# df = pd.read_csv('data/interim/corr/hj_unsup_0.1_binding_affinity.csv', index_col=0)\n",
    "df = pd.read_csv('data/interim/corr/wave_unsup_0.1.csv', index_col=0)\n",
    "# df = pd.read_csv('data/interim/corr/vaepde_unsup_0.1.csv', index_col=0)\n",
    "\n",
    "# df['1err'] = df['1err'].apply(lambda x: min(x, 0))\n",
    "# df['2iik'] = df['2iik'].apply(lambda x: min(x, 0))\n",
    "\n",
    "show_df(df)"
   ]
  },
  {
   "cell_type": "code",
   "execution_count": 8,
   "metadata": {},
   "outputs": [
    {
     "name": "stdout",
     "output_type": "stream",
     "text": [
      "Index(['plogp', 'sa', 'qed', 'drd2', 'jnk3', 'gsk3b', 'uplogp'], dtype='object')\n"
     ]
    }
   ],
   "source": [
    "#print the nmae of the columsn from 4-11\n",
    "print(df.columns[5:12])"
   ]
  },
  {
   "cell_type": "code",
   "execution_count": 10,
   "metadata": {
    "ExecuteTime": {
     "end_time": "2024-04-25T10:03:58.166554Z",
     "start_time": "2024-04-25T10:03:58.163468Z"
    },
    "collapsed": false
   },
   "outputs": [],
   "source": [
    "PROPS = [\"plogp\", \"sa\", \"qed\", \"drd2\", \"jnk3\", \"gsk3b\", \"uplogp\"]"
   ]
  },
  {
   "cell_type": "code",
   "execution_count": 11,
   "metadata": {
    "ExecuteTime": {
     "end_time": "2024-04-25T10:04:02.432620Z",
     "start_time": "2024-04-25T10:04:01.778764Z"
    },
    "collapsed": false
   },
   "outputs": [
    {
     "data": {
      "text/html": [
       "<div>\n",
       "<style scoped>\n",
       "    .dataframe tbody tr th:only-of-type {\n",
       "        vertical-align: middle;\n",
       "    }\n",
       "\n",
       "    .dataframe tbody tr th {\n",
       "        vertical-align: top;\n",
       "    }\n",
       "\n",
       "    .dataframe thead th {\n",
       "        text-align: right;\n",
       "    }\n",
       "</style>\n",
       "<table border=\"1\" class=\"dataframe\">\n",
       "  <thead>\n",
       "    <tr style=\"text-align: right;\">\n",
       "      <th></th>\n",
       "      <th></th>\n",
       "      <th>plogp</th>\n",
       "      <th>sa</th>\n",
       "      <th>qed</th>\n",
       "      <th>drd2</th>\n",
       "      <th>jnk3</th>\n",
       "      <th>gsk3b</th>\n",
       "      <th>uplogp</th>\n",
       "      <th>invalid</th>\n",
       "    </tr>\n",
       "    <tr>\n",
       "      <th>k_idx</th>\n",
       "      <th>idx</th>\n",
       "      <th></th>\n",
       "      <th></th>\n",
       "      <th></th>\n",
       "      <th></th>\n",
       "      <th></th>\n",
       "      <th></th>\n",
       "      <th></th>\n",
       "      <th></th>\n",
       "    </tr>\n",
       "  </thead>\n",
       "  <tbody>\n",
       "    <tr>\n",
       "      <th rowspan=\"5\" valign=\"top\">0</th>\n",
       "      <th>0</th>\n",
       "      <td>0.864114</td>\n",
       "      <td>-0.533383</td>\n",
       "      <td>-0.224718</td>\n",
       "      <td>0.917161</td>\n",
       "      <td>-0.646362</td>\n",
       "      <td>0.246139</td>\n",
       "      <td>0.833024</td>\n",
       "      <td>False</td>\n",
       "    </tr>\n",
       "    <tr>\n",
       "      <th>1</th>\n",
       "      <td>0.391131</td>\n",
       "      <td>0.814033</td>\n",
       "      <td>-0.299118</td>\n",
       "      <td>-0.898494</td>\n",
       "      <td>0.383167</td>\n",
       "      <td>-0.129165</td>\n",
       "      <td>-0.794191</td>\n",
       "      <td>False</td>\n",
       "    </tr>\n",
       "    <tr>\n",
       "      <th>2</th>\n",
       "      <td>0.916382</td>\n",
       "      <td>-0.913737</td>\n",
       "      <td>0.902030</td>\n",
       "      <td>-0.837120</td>\n",
       "      <td>0.797724</td>\n",
       "      <td>-0.878595</td>\n",
       "      <td>0.908815</td>\n",
       "      <td>False</td>\n",
       "    </tr>\n",
       "    <tr>\n",
       "      <th>3</th>\n",
       "      <td>-0.907017</td>\n",
       "      <td>0.720772</td>\n",
       "      <td>-0.911478</td>\n",
       "      <td>0.675984</td>\n",
       "      <td>NaN</td>\n",
       "      <td>0.815163</td>\n",
       "      <td>-0.875643</td>\n",
       "      <td>False</td>\n",
       "    </tr>\n",
       "    <tr>\n",
       "      <th>4</th>\n",
       "      <td>-0.853633</td>\n",
       "      <td>0.867615</td>\n",
       "      <td>0.821528</td>\n",
       "      <td>-0.828810</td>\n",
       "      <td>-0.696311</td>\n",
       "      <td>-0.798723</td>\n",
       "      <td>-0.839349</td>\n",
       "      <td>False</td>\n",
       "    </tr>\n",
       "  </tbody>\n",
       "</table>\n",
       "</div>"
      ],
      "text/plain": [
       "              plogp        sa       qed      drd2      jnk3     gsk3b  \\\n",
       "k_idx idx                                                               \n",
       "0     0    0.864114 -0.533383 -0.224718  0.917161 -0.646362  0.246139   \n",
       "      1    0.391131  0.814033 -0.299118 -0.898494  0.383167 -0.129165   \n",
       "      2    0.916382 -0.913737  0.902030 -0.837120  0.797724 -0.878595   \n",
       "      3   -0.907017  0.720772 -0.911478  0.675984       NaN  0.815163   \n",
       "      4   -0.853633  0.867615  0.821528 -0.828810 -0.696311 -0.798723   \n",
       "\n",
       "             uplogp  invalid  \n",
       "k_idx idx                     \n",
       "0     0    0.833024    False  \n",
       "      1   -0.794191    False  \n",
       "      2    0.908815    False  \n",
       "      3   -0.875643    False  \n",
       "      4   -0.839349    False  "
      ]
     },
     "metadata": {},
     "output_type": "display_data"
    },
    {
     "name": "stdout",
     "output_type": "stream",
     "text": [
      "(10000, 8)\n"
     ]
    }
   ],
   "source": [
    "from scipy.stats import pearsonr, spearmanr, linregress\n",
    "\n",
    "def fun(x:pd.DataFrame):\n",
    "    results = []\n",
    "    # for prop in PROPS:\n",
    "    for j in range(5, 12):\n",
    "    #for j in range(5, 7):\n",
    "        r = [\n",
    "            x.iloc[i, j] for i in range(10)\n",
    "        ]\n",
    "        results.append(pearsonr(range(10), r)[0])\n",
    "    s = pd.Series(results, index=PROPS)\n",
    "    \n",
    "    s['invalid'] = x['smiles'].nunique()==1\n",
    "    \n",
    "    return s\n",
    "\n",
    "_df = df.groupby(['k_idx', 'idx']).apply(fun)\n",
    "# _df = df.groupby(['k_idx', 'idx']).apply(fun)\n",
    "\n",
    "show_df(_df)"
   ]
  },
  {
   "cell_type": "code",
   "execution_count": 13,
   "metadata": {
    "ExecuteTime": {
     "end_time": "2024-04-25T10:04:04.536973Z",
     "start_time": "2024-04-25T10:04:04.533621Z"
    },
    "collapsed": false
   },
   "outputs": [
    {
     "name": "stdout",
     "output_type": "stream",
     "text": [
      "(10000, 8)\n"
     ]
    }
   ],
   "source": [
    "# df_result = _df.query('not invalid').fillna(0)\n",
    "df_result = _df.fillna(0)\n",
    "\n",
    "# show_df(df_result)\n",
    "\n",
    "print(df_result.shape)"
   ]
  },
  {
   "cell_type": "code",
   "execution_count": 23,
   "metadata": {},
   "outputs": [],
   "source": [
    "#df_result.groupby('k_idx').mean()"
   ]
  },
  {
   "cell_type": "code",
   "execution_count": 15,
   "metadata": {},
   "outputs": [
    {
     "name": "stdout",
     "output_type": "stream",
     "text": [
      "plogp: 2\n",
      "sa: 6\n",
      "qed: 0\n",
      "drd2: 3\n",
      "jnk3: 5\n",
      "gsk3b: 5\n",
      "uplogp: 6\n"
     ]
    }
   ],
   "source": [
    "for prop in PROPS:\n",
    "    max = df_result[prop].idxmax()[0]\n",
    "    print(f\"{prop}: {max}\")"
   ]
  },
  {
   "cell_type": "code",
   "execution_count": 16,
   "metadata": {},
   "outputs": [
    {
     "ename": "KeyError",
     "evalue": "'1err'",
     "output_type": "error",
     "traceback": [
      "\u001b[0;31m---------------------------------------------------------------------------\u001b[0m",
      "\u001b[0;31mKeyError\u001b[0m                                  Traceback (most recent call last)",
      "File \u001b[0;32m~/miniconda3/envs/chemflow_gpu/lib/python3.10/site-packages/pandas/core/indexes/base.py:3791\u001b[0m, in \u001b[0;36mIndex.get_loc\u001b[0;34m(self, key)\u001b[0m\n\u001b[1;32m   3790\u001b[0m \u001b[38;5;28;01mtry\u001b[39;00m:\n\u001b[0;32m-> 3791\u001b[0m     \u001b[38;5;28;01mreturn\u001b[39;00m \u001b[38;5;28;43mself\u001b[39;49m\u001b[38;5;241;43m.\u001b[39;49m\u001b[43m_engine\u001b[49m\u001b[38;5;241;43m.\u001b[39;49m\u001b[43mget_loc\u001b[49m\u001b[43m(\u001b[49m\u001b[43mcasted_key\u001b[49m\u001b[43m)\u001b[49m\n\u001b[1;32m   3792\u001b[0m \u001b[38;5;28;01mexcept\u001b[39;00m \u001b[38;5;167;01mKeyError\u001b[39;00m \u001b[38;5;28;01mas\u001b[39;00m err:\n",
      "File \u001b[0;32mindex.pyx:152\u001b[0m, in \u001b[0;36mpandas._libs.index.IndexEngine.get_loc\u001b[0;34m()\u001b[0m\n",
      "File \u001b[0;32mindex.pyx:181\u001b[0m, in \u001b[0;36mpandas._libs.index.IndexEngine.get_loc\u001b[0;34m()\u001b[0m\n",
      "File \u001b[0;32mpandas/_libs/hashtable_class_helper.pxi:7080\u001b[0m, in \u001b[0;36mpandas._libs.hashtable.PyObjectHashTable.get_item\u001b[0;34m()\u001b[0m\n",
      "File \u001b[0;32mpandas/_libs/hashtable_class_helper.pxi:7088\u001b[0m, in \u001b[0;36mpandas._libs.hashtable.PyObjectHashTable.get_item\u001b[0;34m()\u001b[0m\n",
      "\u001b[0;31mKeyError\u001b[0m: '1err'",
      "\nThe above exception was the direct cause of the following exception:\n",
      "\u001b[0;31mKeyError\u001b[0m                                  Traceback (most recent call last)",
      "Cell \u001b[0;32mIn[16], line 2\u001b[0m\n\u001b[1;32m      1\u001b[0m \u001b[38;5;66;03m#find the row with highest 1err \u001b[39;00m\n\u001b[0;32m----> 2\u001b[0m max_1err \u001b[38;5;241m=\u001b[39m \u001b[43mdf_result\u001b[49m\u001b[43m[\u001b[49m\u001b[38;5;124;43m'\u001b[39;49m\u001b[38;5;124;43m1err\u001b[39;49m\u001b[38;5;124;43m'\u001b[39;49m\u001b[43m]\u001b[49m\u001b[38;5;241m.\u001b[39midxmax()\n\u001b[1;32m      3\u001b[0m \u001b[38;5;28mprint\u001b[39m(max_1err[\u001b[38;5;241m0\u001b[39m])\n\u001b[1;32m      4\u001b[0m max_2iik \u001b[38;5;241m=\u001b[39m df_result[\u001b[38;5;124m'\u001b[39m\u001b[38;5;124m2iik\u001b[39m\u001b[38;5;124m'\u001b[39m]\u001b[38;5;241m.\u001b[39midxmax()\n",
      "File \u001b[0;32m~/miniconda3/envs/chemflow_gpu/lib/python3.10/site-packages/pandas/core/frame.py:3893\u001b[0m, in \u001b[0;36mDataFrame.__getitem__\u001b[0;34m(self, key)\u001b[0m\n\u001b[1;32m   3891\u001b[0m \u001b[38;5;28;01mif\u001b[39;00m \u001b[38;5;28mself\u001b[39m\u001b[38;5;241m.\u001b[39mcolumns\u001b[38;5;241m.\u001b[39mnlevels \u001b[38;5;241m>\u001b[39m \u001b[38;5;241m1\u001b[39m:\n\u001b[1;32m   3892\u001b[0m     \u001b[38;5;28;01mreturn\u001b[39;00m \u001b[38;5;28mself\u001b[39m\u001b[38;5;241m.\u001b[39m_getitem_multilevel(key)\n\u001b[0;32m-> 3893\u001b[0m indexer \u001b[38;5;241m=\u001b[39m \u001b[38;5;28;43mself\u001b[39;49m\u001b[38;5;241;43m.\u001b[39;49m\u001b[43mcolumns\u001b[49m\u001b[38;5;241;43m.\u001b[39;49m\u001b[43mget_loc\u001b[49m\u001b[43m(\u001b[49m\u001b[43mkey\u001b[49m\u001b[43m)\u001b[49m\n\u001b[1;32m   3894\u001b[0m \u001b[38;5;28;01mif\u001b[39;00m is_integer(indexer):\n\u001b[1;32m   3895\u001b[0m     indexer \u001b[38;5;241m=\u001b[39m [indexer]\n",
      "File \u001b[0;32m~/miniconda3/envs/chemflow_gpu/lib/python3.10/site-packages/pandas/core/indexes/base.py:3798\u001b[0m, in \u001b[0;36mIndex.get_loc\u001b[0;34m(self, key)\u001b[0m\n\u001b[1;32m   3793\u001b[0m     \u001b[38;5;28;01mif\u001b[39;00m \u001b[38;5;28misinstance\u001b[39m(casted_key, \u001b[38;5;28mslice\u001b[39m) \u001b[38;5;129;01mor\u001b[39;00m (\n\u001b[1;32m   3794\u001b[0m         \u001b[38;5;28misinstance\u001b[39m(casted_key, abc\u001b[38;5;241m.\u001b[39mIterable)\n\u001b[1;32m   3795\u001b[0m         \u001b[38;5;129;01mand\u001b[39;00m \u001b[38;5;28many\u001b[39m(\u001b[38;5;28misinstance\u001b[39m(x, \u001b[38;5;28mslice\u001b[39m) \u001b[38;5;28;01mfor\u001b[39;00m x \u001b[38;5;129;01min\u001b[39;00m casted_key)\n\u001b[1;32m   3796\u001b[0m     ):\n\u001b[1;32m   3797\u001b[0m         \u001b[38;5;28;01mraise\u001b[39;00m InvalidIndexError(key)\n\u001b[0;32m-> 3798\u001b[0m     \u001b[38;5;28;01mraise\u001b[39;00m \u001b[38;5;167;01mKeyError\u001b[39;00m(key) \u001b[38;5;28;01mfrom\u001b[39;00m\u001b[38;5;250m \u001b[39m\u001b[38;5;21;01merr\u001b[39;00m\n\u001b[1;32m   3799\u001b[0m \u001b[38;5;28;01mexcept\u001b[39;00m \u001b[38;5;167;01mTypeError\u001b[39;00m:\n\u001b[1;32m   3800\u001b[0m     \u001b[38;5;66;03m# If we have a listlike key, _check_indexing_error will raise\u001b[39;00m\n\u001b[1;32m   3801\u001b[0m     \u001b[38;5;66;03m#  InvalidIndexError. Otherwise we fall through and re-raise\u001b[39;00m\n\u001b[1;32m   3802\u001b[0m     \u001b[38;5;66;03m#  the TypeError.\u001b[39;00m\n\u001b[1;32m   3803\u001b[0m     \u001b[38;5;28mself\u001b[39m\u001b[38;5;241m.\u001b[39m_check_indexing_error(key)\n",
      "\u001b[0;31mKeyError\u001b[0m: '1err'"
     ]
    }
   ],
   "source": [
    "#find the row with highest 1err \n",
    "max_1err = df_result['1err'].idxmax()\n",
    "print(max_1err[0])\n",
    "max_2iik = df_result['2iik'].idxmax()\n",
    "print(max_2iik[0])"
   ]
  },
  {
   "cell_type": "code",
   "execution_count": 32,
   "metadata": {},
   "outputs": [
    {
     "name": "stdout",
     "output_type": "stream",
     "text": [
      "              plogp        sa       qed      drd2      jnk3     gsk3b  \\\n",
      "k_idx idx                                                               \n",
      "0     0    0.864114 -0.533383 -0.224718  0.917161 -0.646362  0.246139   \n",
      "      1    0.391131  0.814033 -0.299118 -0.898494  0.383167 -0.129165   \n",
      "      2    0.916382 -0.913737  0.902030 -0.837120  0.797724 -0.878595   \n",
      "      3   -0.907017  0.720772 -0.911478  0.675984       NaN  0.815163   \n",
      "      4   -0.853633  0.867615  0.821528 -0.828810 -0.696311 -0.798723   \n",
      "\n",
      "             uplogp  invalid  \n",
      "k_idx idx                     \n",
      "0     0    0.833024    False  \n",
      "      1   -0.794191    False  \n",
      "      2    0.908815    False  \n",
      "      3   -0.875643    False  \n",
      "      4   -0.839349    False  \n"
     ]
    }
   ],
   "source": [
    "import pandas as pd\n",
    "import numpy as np\n",
    "from scipy.stats import pearsonr\n",
    "\n",
    "# List of property names\n",
    "PROPS = [\"plogp\", \"sa\", \"qed\", \"drd2\", \"jnk3\", \"gsk3b\", \"uplogp\"]\n",
    "\n",
    "def fun(x: pd.DataFrame):\n",
    "    results = []\n",
    "    n = len(x)  # ideally 10 steps per group\n",
    "    # For each property column (columns 5 through 11 in your DataFrame)\n",
    "    for j in range(5, 12):\n",
    "        # Extract the property values from the group.\n",
    "        r = list(x.iloc[:n, j])\n",
    "        # Compute Pearson correlation between step indices (0,1,...,n-1) and property values.\n",
    "        corr, _ = pearsonr(range(n), r)\n",
    "        results.append(corr)\n",
    "    # Create a Series with correlation coefficients for each property.\n",
    "    s = pd.Series(results, index=PROPS)\n",
    "    # Flag groups where all smiles are identical (could indicate a failed traversal)\n",
    "    s['invalid'] = (x['smiles'].nunique() == 1)\n",
    "    return s\n",
    "\n",
    "# Load the CSV file (adjust the path if needed)\n",
    "df = pd.read_csv('data/interim/corr/wave_unsup_0.1.csv', index_col=0)\n",
    "\n",
    "# Group by k_idx and idx, then apply the correlation function\n",
    "_df = df.groupby(['k_idx', 'idx']).apply(fun)\n",
    "\n",
    "# Display the results (for example, the first few rows)\n",
    "print(_df.head())"
   ]
  }
 ],
 "metadata": {
  "kernelspec": {
   "display_name": "chemflow_gpu",
   "language": "python",
   "name": "python3"
  },
  "language_info": {
   "codemirror_mode": {
    "name": "ipython",
    "version": 3
   },
   "file_extension": ".py",
   "mimetype": "text/x-python",
   "name": "python",
   "nbconvert_exporter": "python",
   "pygments_lexer": "ipython3",
   "version": "3.10.16"
  }
 },
 "nbformat": 4,
 "nbformat_minor": 0
}
