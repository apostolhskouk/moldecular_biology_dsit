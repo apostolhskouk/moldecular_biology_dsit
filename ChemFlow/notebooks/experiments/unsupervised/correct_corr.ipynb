{
 "cells": [
  {
   "cell_type": "code",
   "execution_count": 3,
   "metadata": {},
   "outputs": [
    {
     "name": "stdout",
     "output_type": "stream",
     "text": [
      "The highest correlation is between sa and uplogp with a coefficient of -0.660\n"
     ]
    }
   ],
   "source": [
    "import pandas as pd\n",
    "import numpy as np\n",
    "\n",
    "# Adjust the path and filename based on your output; here we assume it's \"wave_unsup_0.1.csv\"\n",
    "csv_path = \"/data/hdd1/users/akouk/ChemFlow/ChemFlow/data/interim/corr/wave_unsup_0.1.csv\"\n",
    "df = pd.read_csv(csv_path)\n",
    "\n",
    "# List of property columns you computed in your experiment.\n",
    "props = [\"plogp\", \"sa\", \"qed\", \"drd2\", \"jnk3\", \"gsk3b\", \"uplogp\"]\n",
    "\n",
    "# Compute the correlation matrix for these properties.\n",
    "corr_matrix = df[props].corr()\n",
    "\n",
    "# To exclude the self-correlation (diagonal), we set them to NaN.\n",
    "np.fill_diagonal(corr_matrix.values, np.nan)\n",
    "\n",
    "# Find the pair with the maximum absolute correlation.\n",
    "# Here we stack the matrix (turn it into a Series) and get the index of the max value.\n",
    "max_corr_pair = corr_matrix.abs().stack().idxmax()\n",
    "max_corr_value = corr_matrix.loc[max_corr_pair[0], max_corr_pair[1]]\n",
    "\n",
    "print(f\"The highest correlation is between {max_corr_pair[0]} and {max_corr_pair[1]} with a coefficient of {max_corr_value:.3f}\")\n"
   ]
  }
 ],
 "metadata": {
  "kernelspec": {
   "display_name": "chemflow_gpu",
   "language": "python",
   "name": "python3"
  },
  "language_info": {
   "codemirror_mode": {
    "name": "ipython",
    "version": 3
   },
   "file_extension": ".py",
   "mimetype": "text/x-python",
   "name": "python",
   "nbconvert_exporter": "python",
   "pygments_lexer": "ipython3",
   "version": "undefined.undefined.undefined"
  }
 },
 "nbformat": 4,
 "nbformat_minor": 2
}
